{
 "cells": [
  {
   "cell_type": "code",
   "execution_count": 1,
   "metadata": {},
   "outputs": [],
   "source": [
    "import pandas as pd\n",
    "import matplotlib.pyplot as plt \n",
    "import numpy as np"
   ]
  },
  {
   "cell_type": "code",
   "execution_count": 2,
   "metadata": {},
   "outputs": [],
   "source": [
    "dataset = pd.read_csv(\"../fish_participant.csv\")"
   ]
  },
  {
   "cell_type": "code",
   "execution_count": 3,
   "metadata": {},
   "outputs": [
    {
     "name": "stdout",
     "output_type": "stream",
     "text": [
      "    Species  Weight  Length1  Length2  Length3   Height   Width\n",
      "0     Bream   430.0     26.5     29.0     34.0  12.4440  5.1340\n",
      "1     Perch   110.0     20.0     22.0     23.5   5.5225  3.9950\n",
      "2     Roach   160.0     20.5     22.5     25.3   7.0334  3.8203\n",
      "3    Parkki    60.0     14.3     15.5     17.4   6.5772  2.3142\n",
      "4     Bream   700.0     30.4     33.0     38.3  14.8604  5.2854\n",
      "..      ...     ...      ...      ...      ...      ...     ...\n",
      "106   Perch   197.0     23.5     25.6     27.0   6.5610  4.2390\n",
      "107  Parkki   140.0     19.0     20.7     23.2   8.5376  3.2944\n",
      "108   Roach   110.0     19.1     20.8     23.1   6.1677  3.3957\n",
      "109   Perch   685.0     34.0     36.5     39.0  10.8810  6.8640\n",
      "110   Perch   300.0     26.9     28.7     30.1   7.5852  4.6354\n",
      "\n",
      "[111 rows x 7 columns]\n"
     ]
    }
   ],
   "source": [
    "print(dataset)"
   ]
  },
  {
   "cell_type": "code",
   "execution_count": 4,
   "metadata": {},
   "outputs": [
    {
     "name": "stdout",
     "output_type": "stream",
     "text": [
      "Empty DataFrame\n",
      "Columns: [Species, Weight, Length1, Length2, Length3, Height, Width]\n",
      "Index: []\n"
     ]
    }
   ],
   "source": [
    "# Check if there are null values\n",
    "print (dataset[dataset.isnull().any(axis=1)])"
   ]
  },
  {
   "cell_type": "code",
   "execution_count": 5,
   "metadata": {},
   "outputs": [
    {
     "data": {
      "text/plain": [
       "array(['Bream', 'Perch', 'Roach', 'Parkki', 'Smelt', 'Whitefish', 'Pike'],\n",
       "      dtype=object)"
      ]
     },
     "execution_count": 5,
     "metadata": {},
     "output_type": "execute_result"
    }
   ],
   "source": [
    "# Check the type of fish\n",
    "dataset.Species.unique()"
   ]
  },
  {
   "cell_type": "code",
   "execution_count": 6,
   "metadata": {},
   "outputs": [
    {
     "data": {
      "text/html": [
       "<div>\n",
       "<style scoped>\n",
       "    .dataframe tbody tr th:only-of-type {\n",
       "        vertical-align: middle;\n",
       "    }\n",
       "\n",
       "    .dataframe tbody tr th {\n",
       "        vertical-align: top;\n",
       "    }\n",
       "\n",
       "    .dataframe thead th {\n",
       "        text-align: right;\n",
       "    }\n",
       "</style>\n",
       "<table border=\"1\" class=\"dataframe\">\n",
       "  <thead>\n",
       "    <tr style=\"text-align: right;\">\n",
       "      <th></th>\n",
       "      <th>Species</th>\n",
       "      <th>Length2</th>\n",
       "      <th>Height</th>\n",
       "      <th>Width</th>\n",
       "      <th>Girth</th>\n",
       "      <th>Weight</th>\n",
       "    </tr>\n",
       "  </thead>\n",
       "  <tbody>\n",
       "    <tr>\n",
       "      <th>0</th>\n",
       "      <td>Bream</td>\n",
       "      <td>29.0</td>\n",
       "      <td>12.4440</td>\n",
       "      <td>5.1340</td>\n",
       "      <td>136.05100</td>\n",
       "      <td>430.0</td>\n",
       "    </tr>\n",
       "    <tr>\n",
       "      <th>1</th>\n",
       "      <td>Perch</td>\n",
       "      <td>22.0</td>\n",
       "      <td>5.5225</td>\n",
       "      <td>3.9950</td>\n",
       "      <td>79.90000</td>\n",
       "      <td>110.0</td>\n",
       "    </tr>\n",
       "    <tr>\n",
       "      <th>2</th>\n",
       "      <td>Roach</td>\n",
       "      <td>22.5</td>\n",
       "      <td>7.0334</td>\n",
       "      <td>3.8203</td>\n",
       "      <td>78.31615</td>\n",
       "      <td>160.0</td>\n",
       "    </tr>\n",
       "    <tr>\n",
       "      <th>3</th>\n",
       "      <td>Parkki</td>\n",
       "      <td>15.5</td>\n",
       "      <td>6.5772</td>\n",
       "      <td>2.3142</td>\n",
       "      <td>33.09306</td>\n",
       "      <td>60.0</td>\n",
       "    </tr>\n",
       "    <tr>\n",
       "      <th>4</th>\n",
       "      <td>Bream</td>\n",
       "      <td>33.0</td>\n",
       "      <td>14.8604</td>\n",
       "      <td>5.2854</td>\n",
       "      <td>160.67616</td>\n",
       "      <td>700.0</td>\n",
       "    </tr>\n",
       "    <tr>\n",
       "      <th>...</th>\n",
       "      <td>...</td>\n",
       "      <td>...</td>\n",
       "      <td>...</td>\n",
       "      <td>...</td>\n",
       "      <td>...</td>\n",
       "      <td>...</td>\n",
       "    </tr>\n",
       "    <tr>\n",
       "      <th>106</th>\n",
       "      <td>Perch</td>\n",
       "      <td>25.6</td>\n",
       "      <td>6.5610</td>\n",
       "      <td>4.2390</td>\n",
       "      <td>99.61650</td>\n",
       "      <td>197.0</td>\n",
       "    </tr>\n",
       "    <tr>\n",
       "      <th>107</th>\n",
       "      <td>Parkki</td>\n",
       "      <td>20.7</td>\n",
       "      <td>8.5376</td>\n",
       "      <td>3.2944</td>\n",
       "      <td>62.59360</td>\n",
       "      <td>140.0</td>\n",
       "    </tr>\n",
       "    <tr>\n",
       "      <th>108</th>\n",
       "      <td>Roach</td>\n",
       "      <td>20.8</td>\n",
       "      <td>6.1677</td>\n",
       "      <td>3.3957</td>\n",
       "      <td>64.85787</td>\n",
       "      <td>110.0</td>\n",
       "    </tr>\n",
       "    <tr>\n",
       "      <th>109</th>\n",
       "      <td>Perch</td>\n",
       "      <td>36.5</td>\n",
       "      <td>10.8810</td>\n",
       "      <td>6.8640</td>\n",
       "      <td>233.37600</td>\n",
       "      <td>685.0</td>\n",
       "    </tr>\n",
       "    <tr>\n",
       "      <th>110</th>\n",
       "      <td>Perch</td>\n",
       "      <td>28.7</td>\n",
       "      <td>7.5852</td>\n",
       "      <td>4.6354</td>\n",
       "      <td>124.69226</td>\n",
       "      <td>300.0</td>\n",
       "    </tr>\n",
       "  </tbody>\n",
       "</table>\n",
       "<p>111 rows × 6 columns</p>\n",
       "</div>"
      ],
      "text/plain": [
       "    Species  Length2   Height   Width      Girth  Weight\n",
       "0     Bream     29.0  12.4440  5.1340  136.05100   430.0\n",
       "1     Perch     22.0   5.5225  3.9950   79.90000   110.0\n",
       "2     Roach     22.5   7.0334  3.8203   78.31615   160.0\n",
       "3    Parkki     15.5   6.5772  2.3142   33.09306    60.0\n",
       "4     Bream     33.0  14.8604  5.2854  160.67616   700.0\n",
       "..      ...      ...      ...     ...        ...     ...\n",
       "106   Perch     25.6   6.5610  4.2390   99.61650   197.0\n",
       "107  Parkki     20.7   8.5376  3.2944   62.59360   140.0\n",
       "108   Roach     20.8   6.1677  3.3957   64.85787   110.0\n",
       "109   Perch     36.5  10.8810  6.8640  233.37600   685.0\n",
       "110   Perch     28.7   7.5852  4.6354  124.69226   300.0\n",
       "\n",
       "[111 rows x 6 columns]"
      ]
     },
     "execution_count": 6,
     "metadata": {},
     "output_type": "execute_result"
    }
   ],
   "source": [
    "dataset = dataset.assign(Girth=dataset[\"Length1\"] * dataset[\"Width\"])\n",
    "\n",
    "# Organize columns\n",
    "\n",
    "dataset = dataset[[\"Species\", \"Length2\", \"Height\", \"Width\", \"Girth\", \"Weight\" ]]\n",
    "dataset"
   ]
  },
  {
   "cell_type": "code",
   "execution_count": 7,
   "metadata": {},
   "outputs": [],
   "source": [
    "X = dataset.iloc[:, :-1].values\n",
    "y = dataset.iloc[:, -1].values"
   ]
  },
  {
   "cell_type": "markdown",
   "metadata": {},
   "source": [
    "## Encoding categorical data"
   ]
  },
  {
   "cell_type": "code",
   "execution_count": 8,
   "metadata": {},
   "outputs": [
    {
     "name": "stdout",
     "output_type": "stream",
     "text": [
      "[[1.0 0.0 0.0 ... 12.444 5.134 136.05100000000002]\n",
      " [0.0 0.0 1.0 ... 5.5225 3.995 79.9]\n",
      " [0.0 0.0 0.0 ... 7.0334 3.8203 78.31615000000001]\n",
      " ...\n",
      " [0.0 0.0 0.0 ... 6.1677 3.3957 64.85787]\n",
      " [0.0 0.0 1.0 ... 10.880999999999998 6.864 233.376]\n",
      " [0.0 0.0 1.0 ... 7.5852 4.6354 124.69225999999999]]\n"
     ]
    }
   ],
   "source": [
    "# Dummy Variables\n",
    "\n",
    "from sklearn.compose import ColumnTransformer\n",
    "from sklearn.preprocessing import OneHotEncoder\n",
    "\n",
    "ct = ColumnTransformer(transformers=[('encoder', OneHotEncoder(), [0])], remainder='passthrough')\n",
    "X = np.array(ct.fit_transform(X))\n",
    "\n",
    "print (X)\n"
   ]
  },
  {
   "cell_type": "markdown",
   "metadata": {},
   "source": [
    "## Multilinear Regression"
   ]
  },
  {
   "cell_type": "markdown",
   "metadata": {},
   "source": [
    "## Splitting the dataset into the Training set and Test set"
   ]
  },
  {
   "cell_type": "code",
   "execution_count": 9,
   "metadata": {},
   "outputs": [],
   "source": [
    "from sklearn.model_selection import train_test_split\n",
    "X_train, X_test, y_train, y_test = train_test_split(X, y, test_size = 0.2, random_state = 0)\n"
   ]
  },
  {
   "cell_type": "markdown",
   "metadata": {},
   "source": [
    "## Training the Multiple Linear Regression model on the Training set"
   ]
  },
  {
   "cell_type": "code",
   "execution_count": 10,
   "metadata": {},
   "outputs": [
    {
     "data": {
      "text/plain": [
       "LinearRegression(copy_X=True, fit_intercept=True, n_jobs=None, normalize=False)"
      ]
     },
     "execution_count": 10,
     "metadata": {},
     "output_type": "execute_result"
    }
   ],
   "source": [
    "from sklearn.linear_model import LinearRegression\n",
    "regressor = LinearRegression()\n",
    "regressor.fit(X_train, y_train)"
   ]
  },
  {
   "cell_type": "markdown",
   "metadata": {},
   "source": [
    "## Predicting the Test set results"
   ]
  },
  {
   "cell_type": "code",
   "execution_count": 11,
   "metadata": {},
   "outputs": [
    {
     "name": "stdout",
     "output_type": "stream",
     "text": [
      "[[  19.03   13.4 ]\n",
      " [ 995.91  925.  ]\n",
      " [ 321.85  270.  ]\n",
      " [ 152.43  160.  ]\n",
      " [ 942.65 1100.  ]\n",
      " [ 133.65  120.  ]\n",
      " [ 446.19  450.  ]\n",
      " [ 259.21  250.  ]\n",
      " [ 685.59  690.  ]\n",
      " [ 733.27  720.  ]\n",
      " [ 220.23  200.  ]\n",
      " [  58.88   55.  ]\n",
      " [ 936.17  950.  ]\n",
      " [ 274.13  273.  ]\n",
      " [ 154.27  170.  ]\n",
      " [ 867.13  850.  ]\n",
      " [1137.31 1550.  ]\n",
      " [ 247.24  260.  ]\n",
      " [  63.04   69.  ]\n",
      " [ 890.2   920.  ]\n",
      " [  11.02    9.8 ]\n",
      " [  18.28    6.7 ]\n",
      " [ 538.81  514.  ]]\n"
     ]
    }
   ],
   "source": [
    "y_pred = regressor.predict(X_test)\n",
    "np.set_printoptions(precision=2)\n",
    "print(np.concatenate((y_pred.reshape(len(y_pred),1), y_test.reshape(len(y_test),1)),1))"
   ]
  },
  {
   "cell_type": "markdown",
   "metadata": {},
   "source": [
    "## Evaluating the Model Performance - R2 Score"
   ]
  },
  {
   "cell_type": "code",
   "execution_count": 12,
   "metadata": {},
   "outputs": [
    {
     "data": {
      "text/plain": [
       "0.948127647953537"
      ]
     },
     "execution_count": 12,
     "metadata": {},
     "output_type": "execute_result"
    }
   ],
   "source": [
    "from sklearn.metrics import r2_score\n",
    "r2_score(y_test, y_pred)"
   ]
  },
  {
   "cell_type": "markdown",
   "metadata": {},
   "source": [
    "## Evaluating the Model Performance - Mean-squared Error"
   ]
  },
  {
   "cell_type": "code",
   "execution_count": 13,
   "metadata": {},
   "outputs": [
    {
     "data": {
      "text/plain": [
       "8971.889907062252"
      ]
     },
     "execution_count": 13,
     "metadata": {},
     "output_type": "execute_result"
    }
   ],
   "source": [
    "from sklearn.metrics import mean_squared_error\n",
    "mean_squared_error(y_test, y_pred)"
   ]
  },
  {
   "cell_type": "markdown",
   "metadata": {},
   "source": [
    "## Evaluating the Model Mean absolute error"
   ]
  },
  {
   "cell_type": "code",
   "execution_count": 14,
   "metadata": {},
   "outputs": [
    {
     "name": "stdout",
     "output_type": "stream",
     "text": [
      "Accuracy: 96.83 %\n",
      "Standard Deviation: 1.84 %\n"
     ]
    }
   ],
   "source": [
    "## Applying k-Fold Cross Validation\n",
    "\n",
    "from sklearn.model_selection import cross_val_score\n",
    "accuracies = cross_val_score(estimator = regressor, X = X_train, y = y_train, cv = 10)\n",
    "print(\"Accuracy: {:.2f} %\".format(accuracies.mean()*100))\n",
    "print(\"Standard Deviation: {:.2f} %\".format(accuracies.std()*100))"
   ]
  }
 ],
 "metadata": {
  "kernelspec": {
   "display_name": "machine_learning",
   "language": "python",
   "name": "machine_learning"
  },
  "language_info": {
   "codemirror_mode": {
    "name": "ipython",
    "version": 3
   },
   "file_extension": ".py",
   "mimetype": "text/x-python",
   "name": "python",
   "nbconvert_exporter": "python",
   "pygments_lexer": "ipython3",
   "version": "3.7.6"
  }
 },
 "nbformat": 4,
 "nbformat_minor": 4
}
